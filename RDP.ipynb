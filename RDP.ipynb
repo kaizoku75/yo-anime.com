{
  "nbformat": 4,
  "nbformat_minor": 0,
  "metadata": {
    "colab": {
      "name": "RDP.ipynb",
      "provenance": []
    },
    "kernelspec": {
      "name": "python3",
      "display_name": "Python 3"
    }
  },
  "cells": [
    {
      "cell_type": "code",
      "metadata": {
        "id": "60bh-kbablCV"
      },
      "source": [
        "! wget https://raw.githubusercontent.com/explorerfaketimepass/Google-Colab-RDP/main/RDP.sh &> /dev/null\r\n",
        "! chmod +x RDP.sh\r\n",
        "! ./RDP.sh"
      ],
      "execution_count": null,
      "outputs": []
    }
  ]
}